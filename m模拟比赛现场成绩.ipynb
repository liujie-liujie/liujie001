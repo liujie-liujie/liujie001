{
 "cells": [
  {
   "cell_type": "code",
   "execution_count": 1,
   "metadata": {},
   "outputs": [
    {
     "name": "stdout",
     "output_type": "stream",
     "text": [
      "请输入评委人数：4\n",
      "请输入第1个评委的分数：56\n",
      "请输入第2个评委的分数：78\n",
      "请输入第3个评委的分数：92\n",
      "请输入第4个评委的分数：88\n",
      "去掉一个最高分92.0\n",
      "去掉一个最低分56.0\n",
      "最后得分83.0\n"
     ]
    }
   ],
   "source": [
    "while True:\n",
    "    try:\n",
    "        n=int(input('请输入评委人数：'))\n",
    "        if n<=2:\n",
    "            print('评委人数太少，必须多于2人。')\n",
    "        else:\n",
    "            break\n",
    "    except:\n",
    "        pass\n",
    "scores=[]\n",
    "for i in range(n):\n",
    "    while True:\n",
    "        try:\n",
    "            score=input('请输入第{0}个评委的分数：'.format(i+1))\n",
    "            score=float(score)\n",
    "            assert 0<=score<=100\n",
    "            scores.append(score)\n",
    "            break\n",
    "        except:\n",
    "            print('分数错误')\n",
    "hightest=max(scores)\n",
    "lowest=min(scores)\n",
    "scores.remove(hightest)\n",
    "scores.remove(lowest)\n",
    "finalScore=round(sum(scores)/len(scores),2)\n",
    "formatter='去掉一个最高分{0}\\n去掉一个最低分{1}\\n最后得分{2}'\n",
    "print(formatter.format(hightest,lowest,finalScore))"
   ]
  },
  {
   "cell_type": "code",
   "execution_count": null,
   "metadata": {},
   "outputs": [],
   "source": []
  }
 ],
 "metadata": {
  "kernelspec": {
   "display_name": "Python 3",
   "language": "python",
   "name": "python3"
  },
  "language_info": {
   "codemirror_mode": {
    "name": "ipython",
    "version": 3
   },
   "file_extension": ".py",
   "mimetype": "text/x-python",
   "name": "python",
   "nbconvert_exporter": "python",
   "pygments_lexer": "ipython3",
   "version": "3.7.3"
  }
 },
 "nbformat": 4,
 "nbformat_minor": 2
}
