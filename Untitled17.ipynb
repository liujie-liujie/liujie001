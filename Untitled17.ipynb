{
 "cells": [
  {
   "cell_type": "code",
   "execution_count": 1,
   "metadata": {},
   "outputs": [
    {
     "name": "stdout",
     "output_type": "stream",
     "text": [
      "请输入一个成绩：67\n",
      "继续输入吗？(yes/no)yes\n",
      "请输入一个成绩：87\n",
      "继续输入吗？(yes/no)yes\n",
      "请输入一个成绩：99\n",
      "继续输入吗？(yes/no)no\n"
     ]
    }
   ],
   "source": [
    "numbers=[]\n",
    "while True:\n",
    "    x=input('请输入一个成绩：')\n",
    "    try:\n",
    "        numbers.append(float(x))\n",
    "    except: \n",
    "        print('不是合法成绩')\n",
    "    while True: \n",
    "        flag=input('继续输入吗？(yes/no)')\n",
    "        if flag.lower() not in ('yes','no'): \n",
    "            print('只能输入yes或no')\n",
    "        else:\n",
    "            break\n",
    "    if flag.lower()=='no':\n",
    "        break"
   ]
  },
  {
   "cell_type": "code",
   "execution_count": 2,
   "metadata": {},
   "outputs": [
    {
     "name": "stdout",
     "output_type": "stream",
     "text": [
      "84.33333333333333\n"
     ]
    }
   ],
   "source": [
    "print(sum(numbers)/len(numbers))"
   ]
  },
  {
   "cell_type": "code",
   "execution_count": null,
   "metadata": {},
   "outputs": [],
   "source": []
  }
 ],
 "metadata": {
  "kernelspec": {
   "display_name": "Python 3",
   "language": "python",
   "name": "python3"
  },
  "language_info": {
   "codemirror_mode": {
    "name": "ipython",
    "version": 3
   },
   "file_extension": ".py",
   "mimetype": "text/x-python",
   "name": "python",
   "nbconvert_exporter": "python",
   "pygments_lexer": "ipython3",
   "version": "3.7.3"
  }
 },
 "nbformat": 4,
 "nbformat_minor": 2
}
